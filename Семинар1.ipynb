{
  "nbformat": 4,
  "nbformat_minor": 0,
  "metadata": {
    "colab": {
      "provenance": [],
      "authorship_tag": "ABX9TyNd7I1L73S0+AVLR9wBgY7U",
      "include_colab_link": true
    },
    "kernelspec": {
      "name": "python3",
      "display_name": "Python 3"
    },
    "language_info": {
      "name": "python"
    }
  },
  "cells": [
    {
      "cell_type": "markdown",
      "metadata": {
        "id": "view-in-github",
        "colab_type": "text"
      },
      "source": [
        "<a href=\"https://colab.research.google.com/github/Andrey30011979/Python-for-analysts/blob/main/%D0%A1%D0%B5%D0%BC%D0%B8%D0%BD%D0%B0%D1%801.ipynb\" target=\"_parent\"><img src=\"https://colab.research.google.com/assets/colab-badge.svg\" alt=\"Open In Colab\"/></a>"
      ]
    },
    {
      "cell_type": "code",
      "execution_count": null,
      "metadata": {
        "id": "4DvDsWrEAjgI"
      },
      "outputs": [],
      "source": [
        "dict1 = {'One': 1, 'Two': 2, 'Three': 3}\n",
        "dict2 = {'Four': 4, 'Five': 5, 'Six': 6}\n"
      ]
    },
    {
      "cell_type": "code",
      "source": [
        "def dict3 (dict1,dict2):\n",
        "  dict1.update(dict2)\n",
        "  return dict1\n",
        "dict3(dict1, dict2)"
      ],
      "metadata": {
        "colab": {
          "base_uri": "https://localhost:8080/"
        },
        "id": "csSjGiyQCZaZ",
        "outputId": "e55098f9-e53d-4284-f53d-50e36d826bcb"
      },
      "execution_count": null,
      "outputs": [
        {
          "output_type": "execute_result",
          "data": {
            "text/plain": [
              "{'One': 1, 'Two': 2, 'Three': 3, 'Four': 4, 'Five': 5, 'Six': 6}"
            ]
          },
          "metadata": {},
          "execution_count": 3
        }
      ]
    },
    {
      "cell_type": "code",
      "source": [
        "keys = ['One', 'Two', 'Three']\n",
        "values = [1, 2, 3]"
      ],
      "metadata": {
        "id": "eohYCeZgEdK-"
      },
      "execution_count": null,
      "outputs": []
    },
    {
      "cell_type": "code",
      "source": [
        "def lib (keys,values):\n",
        "  slowar = {}\n",
        "  for i in range(len(keys)):\n",
        "    slowar.update({keys[i]:values[i]})\n",
        "  return slowar\n",
        "lib(keys,values)\n"
      ],
      "metadata": {
        "colab": {
          "base_uri": "https://localhost:8080/"
        },
        "id": "VhrODCZWErWI",
        "outputId": "44c40f6b-f04a-437d-fb7b-1cbaacc5f213"
      },
      "execution_count": null,
      "outputs": [
        {
          "output_type": "execute_result",
          "data": {
            "text/plain": [
              "{'One': 1, 'Two': 2, 'Three': 3}"
            ]
          },
          "metadata": {},
          "execution_count": 4
        }
      ]
    },
    {
      "cell_type": "code",
      "source": [
        "def get_dict(keys: list, values: list) -> dict:\n",
        "    return {keys[i]: values[i]  for i in range(len(keys))}\n",
        "\n",
        "\n",
        "get_dict(keys, values)"
      ],
      "metadata": {
        "colab": {
          "base_uri": "https://localhost:8080/"
        },
        "id": "wDF7EW8eG7Y4",
        "outputId": "04367a72-06ff-4c61-f5e3-746adc9cc742"
      },
      "execution_count": null,
      "outputs": [
        {
          "output_type": "execute_result",
          "data": {
            "text/plain": [
              "{'One': 1, 'Two': 2, 'Three': 3}"
            ]
          },
          "metadata": {},
          "execution_count": 5
        }
      ]
    },
    {
      "cell_type": "code",
      "source": [
        "client_dict = {\n",
        "    \"name\": \"John\",\n",
        "    \"age\": 25,\n",
        "    \"salary\": 5000,\n",
        "    \"city\": \"Moscow\"\n",
        "}"
      ],
      "metadata": {
        "id": "eH5ATxVkHThN"
      },
      "execution_count": null,
      "outputs": []
    },
    {
      "cell_type": "code",
      "source": [
        "keys = ['name', 'age']"
      ],
      "metadata": {
        "id": "AHRSr1mCHlh3"
      },
      "execution_count": null,
      "outputs": []
    },
    {
      "cell_type": "code",
      "source": [
        "def slowar1 (client_dict,keys):\n",
        "  res_dict = dict()\n",
        "  for i in keys:\n",
        "    res_dict.update({i:client_dict[i]})\n",
        "  return res_dict\n",
        "slowar1(client_dict,keys)\n"
      ],
      "metadata": {
        "colab": {
          "base_uri": "https://localhost:8080/"
        },
        "id": "2ZnopBp4HylJ",
        "outputId": "1b812a35-b1d3-4df5-f43b-26fb3272d30b"
      },
      "execution_count": null,
      "outputs": [
        {
          "output_type": "execute_result",
          "data": {
            "text/plain": [
              "{'name': 'John', 'age': 25}"
            ]
          },
          "metadata": {},
          "execution_count": 8
        }
      ]
    },
    {
      "cell_type": "code",
      "source": [
        "slowar1 = {i: client_dict[i] for i in keys}\n",
        "slowar1"
      ],
      "metadata": {
        "colab": {
          "base_uri": "https://localhost:8080/"
        },
        "id": "P2NNbyaALKTa",
        "outputId": "0d3e0428-8667-4865-c6ab-0a88539f1e59"
      },
      "execution_count": null,
      "outputs": [
        {
          "output_type": "execute_result",
          "data": {
            "text/plain": [
              "{'name': 'John', 'age': 25}"
            ]
          },
          "metadata": {},
          "execution_count": 9
        }
      ]
    },
    {
      "cell_type": "code",
      "source": [
        "def cde (*args):\n",
        "    a = sum(args)\n",
        "    b = len(args)\n",
        "    return {\"sum\": a,\"avg\": a/b}\n",
        "cde (2,4,10,5)\n",
        "\n",
        " "
      ],
      "metadata": {
        "colab": {
          "base_uri": "https://localhost:8080/"
        },
        "id": "0Q-WQ7ErMHiq",
        "outputId": "4a8c1b68-e9c0-4581-d555-293fb329f916"
      },
      "execution_count": null,
      "outputs": [
        {
          "output_type": "execute_result",
          "data": {
            "text/plain": [
              "{'sum': 21, 'avg': 5.25}"
            ]
          },
          "metadata": {},
          "execution_count": 10
        }
      ]
    },
    {
      "cell_type": "code",
      "source": [
        "import random\n",
        "numbers = [random.randint(0, 100) for i in range(5)]\n",
        "numbers"
      ],
      "metadata": {
        "colab": {
          "base_uri": "https://localhost:8080/"
        },
        "id": "xSQTWq8QkHRS",
        "outputId": "794dd9d3-34ca-4cc3-acde-9e412b404762"
      },
      "execution_count": null,
      "outputs": [
        {
          "output_type": "execute_result",
          "data": {
            "text/plain": [
              "[85, 93, 0, 81, 42]"
            ]
          },
          "metadata": {},
          "execution_count": 15
        }
      ]
    },
    {
      "cell_type": "code",
      "source": [
        "import random\n",
        "random.seed(7)\n",
        "\n",
        "numbers = [random.randint(0, 100) for i in range(5)]\n",
        "numbers"
      ],
      "metadata": {
        "colab": {
          "base_uri": "https://localhost:8080/"
        },
        "id": "Q0xd3eiUk7Tx",
        "outputId": "ebea1caf-ac33-45e7-dfea-9a096b77cf2d"
      },
      "execution_count": null,
      "outputs": [
        {
          "output_type": "execute_result",
          "data": {
            "text/plain": [
              "[41, 19, 50, 83, 6]"
            ]
          },
          "metadata": {},
          "execution_count": 17
        }
      ]
    },
    {
      "cell_type": "markdown",
      "source": [
        "<img src='https://cdn.playcaliber.com/site/media/news/2021/06/01/4-%D0%A2%D0%B0%D0%B1%D0%BB%D0%B8%D1%86%D0%B0-%D0%BC%D0%B0%D0%BB%D0%B5%D0%BD%D1%8C%D0%BA%D0%B0%D1%8F-%D0%BF%D0%BE-%D1%80%D0%B5%D0%B6%D0%B8%D0%BC%D0%B0%D0%BC-1280%D1%85853.jpg'>\n"
      ],
      "metadata": {
        "id": "aGNLpgcRpycT"
      }
    },
    {
      "cell_type": "markdown",
      "source": [
        "<table>\n",
        "    <tr>\n",
        "        <td> </td>\n",
        "        <td>До события</td>\n",
        "        <td>Во время события</td>\n",
        "    </tr>\n",
        "    <tr>\n",
        "        <td>1 контрольная точка</td>\n",
        "        <td>250</td>\n",
        "        <td>500</td>\n",
        "    </tr>\n",
        "    <tr>\n",
        "        <td>2 контрольная точка</td>\n",
        "        <td>350</td>\n",
        "        <td>700</td>\n",
        "    </tr>\n",
        "    <tr>\n",
        "        <td>3 контрольная точка</td>\n",
        "        <td>400</td>\n",
        "        <td>800</td>\n",
        "    </tr>\n",
        "    <tr>\n",
        "        <td>Итог за победу</td>\n",
        "        <td>1000</td>\n",
        "        <td>2000</td>\n",
        "    </tr>\n",
        "</table>"
      ],
      "metadata": {
        "id": "OxDSwJerp2fu"
      }
    },
    {
      "cell_type": "code",
      "source": [],
      "metadata": {
        "id": "9x2CinFVqH1M"
      },
      "execution_count": null,
      "outputs": []
    }
  ]
}