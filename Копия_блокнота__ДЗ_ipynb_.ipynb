{
  "nbformat": 4,
  "nbformat_minor": 0,
  "metadata": {
    "colab": {
      "provenance": []
    },
    "kernelspec": {
      "name": "python3",
      "display_name": "Python 3"
    },
    "language_info": {
      "name": "python"
    }
  },
  "cells": [
    {
      "cell_type": "markdown",
      "source": [
        "##Задача 1:\n",
        "Оформляйте ноутбук, используя эти советы:\n",
        "Номер задачи -\n",
        "##заголовок 2\n",
        "Номер подзадачи - \n",
        "###заголовок 3\n",
        "Предоставленные наборы данных оформляйте, как код\n",
        "Рекомендации для преподавателей по оценке задания:\n",
        "Смотреть, чтобы студент красиво оформлял ноутбук, использовал ячейки с текстом, указывал номера заданий"
      ],
      "metadata": {
        "id": "A2ZE9mx5wvhF"
      }
    },
    {
      "cell_type": "markdown",
      "source": [
        "##Задача № 2\n",
        "На складе лежат разные фрукты в разном количестве. Нужно написать функцию, которая на вход принимает любое количество названий фруктов и их количество, а возвращает общее количество фруктов на складе"
      ],
      "metadata": {
        "id": "dhGtrpLBvkXn"
      }
    },
    {
      "cell_type": "code",
      "source": [
        "def fruits(**kwargs):\n",
        "    \n",
        "    total_fruits = sum(kwargs.values())\n",
        "    \n",
        "    return f'Total fruits: {total_fruits}'"
      ],
      "metadata": {
        "id": "z-E-Q8TDv4eY"
      },
      "execution_count": null,
      "outputs": []
    },
    {
      "cell_type": "code",
      "source": [
        "print(fruits(apples=11, pears=9, bananas=6))\n"
      ],
      "metadata": {
        "colab": {
          "base_uri": "https://localhost:8080/"
        },
        "id": "6Jpc_PVmwD2U",
        "outputId": "50e3b06a-af36-4880-ac6c-3d5029a02b18"
      },
      "execution_count": null,
      "outputs": [
        {
          "output_type": "stream",
          "name": "stdout",
          "text": [
            "Total fruits: 26\n"
          ]
        }
      ]
    },
    {
      "cell_type": "markdown",
      "source": [
        "##Задача 3:\n",
        "Дан список с затратами на рекламу. Но в данных есть ошибки, некоторые затраты имеют отрицательную величину. Удалите такие значения из списка и посчитайте суммарные затраты\n",
        "[100, 125, -90, 345, 655, -1, 0, 200]\n",
        "Используйте list comprehensions"
      ],
      "metadata": {
        "id": "FMITT5ZcxZGg"
      }
    },
    {
      "cell_type": "code",
      "source": [
        "data = [100, 125, -90, 345, 655, -1, 0, 200]"
      ],
      "metadata": {
        "id": "7eVDCzBVxtiv"
      },
      "execution_count": null,
      "outputs": []
    },
    {
      "cell_type": "code",
      "source": [
        "print(f'Суммарные затраты: {sum([i for i in data if i > 0 ])}')"
      ],
      "metadata": {
        "colab": {
          "base_uri": "https://localhost:8080/"
        },
        "id": "_gMka-HjyBqK",
        "outputId": "98cb6cc3-d5cd-4a2a-e8b3-ba0fa44a05b5"
      },
      "execution_count": null,
      "outputs": [
        {
          "output_type": "stream",
          "name": "stdout",
          "text": [
            "Суммарные затраты: 1425\n"
          ]
        }
      ]
    },
    {
      "cell_type": "markdown",
      "source": [
        "##Задача № 4\n",
        "Даны два списка: дата покупки и суммы покупок по датам.\n",
        "Даны два списка.\n",
        "\n",
        "###4.1 Найдите, какая выручка у компании в ноябре\n",
        "Используйте list comprehensions\n",
        "###4.2 Найдите выручку компании в зависимости от месяца\n",
        "Для этого напишите функцию, которая на вход принимает список с датами и список с выручкой, а на выходе словарь, где ключи - это месяцы, а значения - это выручка.\n",
        "Используйте аннотирование типов."
      ],
      "metadata": {
        "id": "DyrSAs3VyN9B"
      }
    },
    {
      "cell_type": "code",
      "source": [
        "data = ['2021-09-14', '2021-12-15', '2021-09-08', '2021-12-05', '2021-10-09', '2021-09-30', '2021-12-22', '2021-11-29', '2021-12-24', '2021-11-26', '2021-10-27', '2021-12-18', '2021-11-09', '2021-11-23', '2021-09-27', '2021-10-02', '2021-12-27', '2021-09-20', '2021-12-13', '2021-11-01', '2021-11-09', '2021-12-06', '2021-12-08', '2021-10-09', '2021-10-31', '2021-09-30', '2021-11-09', '2021-12-13', '2021-10-26', '2021-12-09']\n",
        "price = [1270, 8413, 9028, 3703, 5739, 4095, 295, 4944, 5723, 3701, 4471, 651, 7037, 4274, 6275, 4988, 6930, 2971, 6592, 2004, 2822, 519, 3406, 2732, 5015, 2008, 316, 6333, 5700, 2887]"
      ],
      "metadata": {
        "id": "17dz6nmOy3iv"
      },
      "execution_count": null,
      "outputs": []
    },
    {
      "cell_type": "code",
      "source": [
        "print([price[i] for i in range(0, len(data)-1) if \"-11\" in data[i]]) # все продажи ноября\n",
        "print(f'Выручка: {sum([price[i] for i in range(len(data)-1) if \"-11\" in data[i]])}') # Сумма ноябрьских продаж"
      ],
      "metadata": {
        "colab": {
          "base_uri": "https://localhost:8080/"
        },
        "id": "FkogovJxzaMu",
        "outputId": "e29b173e-e776-48b6-97f9-2530bd17b865"
      },
      "execution_count": null,
      "outputs": [
        {
          "output_type": "stream",
          "name": "stdout",
          "text": [
            "[4944, 3701, 7037, 4274, 2004, 2822, 316]\n",
            "Выручка: 25098\n"
          ]
        }
      ]
    },
    {
      "cell_type": "code",
      "source": [
        "def profits(data1: list, data2: list) -> dict:\n",
        "    \n",
        "    profits = {}\n",
        "    \n",
        "    for i in range(len(data1)):\n",
        "        \n",
        "        if data[i].split('-')[1] in profits.keys():\n",
        "            profits[data[i].split('-')[1]] += price[i]\n",
        "        else:\n",
        "            profits[data[i].split('-')[1]] = price[i]\n",
        "            \n",
        "    return profits\n",
        "\n",
        "print(profits(data, price))"
      ],
      "metadata": {
        "colab": {
          "base_uri": "https://localhost:8080/"
        },
        "id": "biMO_b92znjn",
        "outputId": "e94afbd5-8a8f-4736-bdaf-2ca290efe672"
      },
      "execution_count": null,
      "outputs": [
        {
          "output_type": "stream",
          "name": "stdout",
          "text": [
            "{'09': 25647, '12': 45452, '10': 28645, '11': 25098}\n"
          ]
        }
      ]
    }
  ]
}